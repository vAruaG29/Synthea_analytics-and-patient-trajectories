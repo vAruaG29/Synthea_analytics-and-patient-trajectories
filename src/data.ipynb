{
 "cells": [
  {
   "cell_type": "code",
   "execution_count": 69,
   "id": "9da85633",
   "metadata": {},
   "outputs": [],
   "source": [
    "import numpy as np\n",
    "import matplotlib.pyplot as plt\n",
    "import pandas as pd\n",
    "import os"
   ]
  },
  {
   "cell_type": "markdown",
   "id": "12ccc6d2",
   "metadata": {},
   "source": [
    "### **1. converting data to pandas dataframe**"
   ]
  },
  {
   "cell_type": "code",
   "execution_count": 70,
   "id": "9a38f6cf",
   "metadata": {},
   "outputs": [],
   "source": [
    "file_dir=\"../data/\"    #change this to your data directory\n",
    "\n",
    "patients = file_dir + \"patients.csv\"\n",
    "encounters = file_dir + \"encounters.csv\"\n",
    "conditions = file_dir + \"conditions.csv\"\n",
    "procedures = file_dir + \"procedures.csv\""
   ]
  },
  {
   "cell_type": "code",
   "execution_count": 71,
   "id": "a592cfa1",
   "metadata": {},
   "outputs": [],
   "source": [
    "#load the data\n",
    "\n",
    "patients_df = pd.read_csv(patients)\n",
    "encounters_df = pd.read_csv(encounters)\n",
    "conditions_df = pd.read_csv(conditions)\n",
    "procedures_df = pd.read_csv(procedures)\n"
   ]
  },
  {
   "cell_type": "markdown",
   "id": "5c384691",
   "metadata": {},
   "source": [
    "### **2. Clean the DataFrames by removing unwanted columns (e.g expenses, locations )**\n"
   ]
  },
  {
   "cell_type": "code",
   "execution_count": 72,
   "id": "a90b7470",
   "metadata": {},
   "outputs": [],
   "source": [
    "patients_df.drop(columns=['BIRTHPLACE',\n",
    "                          'ADDRESS',\n",
    "                          'CITY',\n",
    "                          'STATE',\n",
    "                          'COUNTY',\n",
    "                          'FIPS',\n",
    "                          'ZIP',\n",
    "                          'LAT',\n",
    "                          'LON',\n",
    "                          'INCOME',\n",
    "                          'HEALTHCARE_EXPENSES',\n",
    "                          'HEALTHCARE_COVERAGE',\n",
    "                          'SSN',\n",
    "                          'DRIVERS',\n",
    "                          'PASSPORT',\n",
    "                          'SUFFIX',\n",
    "                          'MAIDEN',\n",
    "                          'MARITAL',\n",
    "                          'ETHNICITY',\n",
    "                          'PREFIX'], inplace=True)    # drop unnecessary columns for analysis"
   ]
  },
  {
   "cell_type": "code",
   "execution_count": 73,
   "id": "6e483bdd",
   "metadata": {},
   "outputs": [],
   "source": [
    "encounters_df.drop(columns=['BASE_ENCOUNTER_COST',\n",
    "                            'TOTAL_CLAIM_COST', \n",
    "                            'PAYER_COVERAGE',\n",
    "                            'ORGANIZATION', \n",
    "                            'PROVIDER', \n",
    "                            'PAYER'],\n",
    "                   inplace=True)                        # drop unnecessary columns for analysis"
   ]
  },
  {
   "cell_type": "code",
   "execution_count": 74,
   "id": "4a04b9fa",
   "metadata": {},
   "outputs": [],
   "source": [
    "procedures_df.drop(columns=['BASE_COST'], inplace=True) # drop base cost as it is not needed for analysis"
   ]
  },
  {
   "cell_type": "code",
   "execution_count": 100,
   "id": "db77b115",
   "metadata": {},
   "outputs": [],
   "source": [
    "procedures_df.drop_duplicates(subset=['ENCOUNTER', 'CODE'], inplace=True)"
   ]
  },
  {
   "cell_type": "code",
   "execution_count": 101,
   "id": "b6ec47d3",
   "metadata": {},
   "outputs": [
    {
     "name": "stdout",
     "output_type": "stream",
     "text": [
      "(50186, 7)\n"
     ]
    }
   ],
   "source": [
    "print(patients_df.shape)"
   ]
  },
  {
   "cell_type": "code",
   "execution_count": 102,
   "id": "4af2415f",
   "metadata": {},
   "outputs": [
    {
     "data": {
      "text/html": [
       "<div>\n",
       "<style scoped>\n",
       "    .dataframe tbody tr th:only-of-type {\n",
       "        vertical-align: middle;\n",
       "    }\n",
       "\n",
       "    .dataframe tbody tr th {\n",
       "        vertical-align: top;\n",
       "    }\n",
       "\n",
       "    .dataframe thead th {\n",
       "        text-align: right;\n",
       "    }\n",
       "</style>\n",
       "<table border=\"1\" class=\"dataframe\">\n",
       "  <thead>\n",
       "    <tr style=\"text-align: right;\">\n",
       "      <th></th>\n",
       "      <th>Id</th>\n",
       "      <th>START</th>\n",
       "      <th>STOP</th>\n",
       "      <th>PATIENT</th>\n",
       "      <th>ENCOUNTERCLASS</th>\n",
       "      <th>CODE</th>\n",
       "      <th>DESCRIPTION</th>\n",
       "      <th>REASONCODE</th>\n",
       "      <th>REASONDESCRIPTION</th>\n",
       "    </tr>\n",
       "  </thead>\n",
       "  <tbody>\n",
       "    <tr>\n",
       "      <th>0</th>\n",
       "      <td>7d3c759d-bc25-ae60-fa5f-aa9468261553</td>\n",
       "      <td>2015-03-02T00:18:32Z</td>\n",
       "      <td>2015-03-02T00:33:32Z</td>\n",
       "      <td>3753e415-bb2c-5b73-9569-eefb29fa2e2d</td>\n",
       "      <td>wellness</td>\n",
       "      <td>162673000</td>\n",
       "      <td>General examination of patient (procedure)</td>\n",
       "      <td>NaN</td>\n",
       "      <td>NaN</td>\n",
       "    </tr>\n",
       "    <tr>\n",
       "      <th>1</th>\n",
       "      <td>5a86340d-d955-81aa-60ac-096ee6c34d50</td>\n",
       "      <td>2014-09-20T04:11:00Z</td>\n",
       "      <td>2014-09-20T04:26:00Z</td>\n",
       "      <td>6b222eeb-8f40-f574-fcd0-aba7c9187958</td>\n",
       "      <td>wellness</td>\n",
       "      <td>410620009</td>\n",
       "      <td>Well child visit (procedure)</td>\n",
       "      <td>NaN</td>\n",
       "      <td>NaN</td>\n",
       "    </tr>\n",
       "    <tr>\n",
       "      <th>2</th>\n",
       "      <td>587f6f59-f770-a0f6-5778-174e06d7d265</td>\n",
       "      <td>2017-04-07T12:57:58Z</td>\n",
       "      <td>2017-04-07T13:12:58Z</td>\n",
       "      <td>e071cf75-8fdf-5dcf-b69b-229dc9929237</td>\n",
       "      <td>wellness</td>\n",
       "      <td>162673000</td>\n",
       "      <td>General examination of patient (procedure)</td>\n",
       "      <td>NaN</td>\n",
       "      <td>NaN</td>\n",
       "    </tr>\n",
       "    <tr>\n",
       "      <th>3</th>\n",
       "      <td>dc44fef6-b582-16d7-98aa-d2748ad32f11</td>\n",
       "      <td>2014-11-13T17:18:00Z</td>\n",
       "      <td>2014-11-13T17:33:00Z</td>\n",
       "      <td>3bca2e38-4cf3-6f67-aeb6-32c2b5b00ce7</td>\n",
       "      <td>wellness</td>\n",
       "      <td>410620009</td>\n",
       "      <td>Well child visit (procedure)</td>\n",
       "      <td>NaN</td>\n",
       "      <td>NaN</td>\n",
       "    </tr>\n",
       "    <tr>\n",
       "      <th>4</th>\n",
       "      <td>2c7569c5-f9ef-1052-078b-8fd7c2bebfa7</td>\n",
       "      <td>2015-04-17T11:20:19Z</td>\n",
       "      <td>2015-04-17T11:35:19Z</td>\n",
       "      <td>90db2046-ac67-926b-2813-5b36e47065e2</td>\n",
       "      <td>wellness</td>\n",
       "      <td>410620009</td>\n",
       "      <td>Well child visit (procedure)</td>\n",
       "      <td>NaN</td>\n",
       "      <td>NaN</td>\n",
       "    </tr>\n",
       "    <tr>\n",
       "      <th>...</th>\n",
       "      <td>...</td>\n",
       "      <td>...</td>\n",
       "      <td>...</td>\n",
       "      <td>...</td>\n",
       "      <td>...</td>\n",
       "      <td>...</td>\n",
       "      <td>...</td>\n",
       "      <td>...</td>\n",
       "      <td>...</td>\n",
       "    </tr>\n",
       "    <tr>\n",
       "      <th>468044</th>\n",
       "      <td>7b764298-a9e9-3293-ed5a-d06577270750</td>\n",
       "      <td>2021-03-13T19:08:36Z</td>\n",
       "      <td>2021-03-13T19:23:36Z</td>\n",
       "      <td>273a809e-3b85-28d3-4033-9e479afb3e51</td>\n",
       "      <td>wellness</td>\n",
       "      <td>162673000</td>\n",
       "      <td>General examination of patient (procedure)</td>\n",
       "      <td>NaN</td>\n",
       "      <td>NaN</td>\n",
       "    </tr>\n",
       "    <tr>\n",
       "      <th>468045</th>\n",
       "      <td>565e69c5-81ab-e8e8-39c1-f09081835f50</td>\n",
       "      <td>2021-04-03T19:08:36Z</td>\n",
       "      <td>2021-04-03T19:23:36Z</td>\n",
       "      <td>273a809e-3b85-28d3-4033-9e479afb3e51</td>\n",
       "      <td>outpatient</td>\n",
       "      <td>33879002</td>\n",
       "      <td>Administration of vaccine to produce active im...</td>\n",
       "      <td>NaN</td>\n",
       "      <td>NaN</td>\n",
       "    </tr>\n",
       "    <tr>\n",
       "      <th>468046</th>\n",
       "      <td>22c3a7c0-197f-edc7-c6b0-d34753c1220a</td>\n",
       "      <td>2022-03-19T19:08:36Z</td>\n",
       "      <td>2022-03-19T19:23:36Z</td>\n",
       "      <td>273a809e-3b85-28d3-4033-9e479afb3e51</td>\n",
       "      <td>wellness</td>\n",
       "      <td>162673000</td>\n",
       "      <td>General examination of patient (procedure)</td>\n",
       "      <td>NaN</td>\n",
       "      <td>NaN</td>\n",
       "    </tr>\n",
       "    <tr>\n",
       "      <th>468047</th>\n",
       "      <td>94f41589-6a35-2369-2b5a-68ef6e116c7d</td>\n",
       "      <td>2023-03-25T19:08:36Z</td>\n",
       "      <td>2023-03-25T19:23:36Z</td>\n",
       "      <td>273a809e-3b85-28d3-4033-9e479afb3e51</td>\n",
       "      <td>wellness</td>\n",
       "      <td>162673000</td>\n",
       "      <td>General examination of patient (procedure)</td>\n",
       "      <td>NaN</td>\n",
       "      <td>NaN</td>\n",
       "    </tr>\n",
       "    <tr>\n",
       "      <th>468048</th>\n",
       "      <td>2948fb3b-92c6-7a93-1c0d-7ad49efd0e33</td>\n",
       "      <td>2024-03-30T19:08:36Z</td>\n",
       "      <td>2024-03-30T19:23:36Z</td>\n",
       "      <td>273a809e-3b85-28d3-4033-9e479afb3e51</td>\n",
       "      <td>wellness</td>\n",
       "      <td>162673000</td>\n",
       "      <td>General examination of patient (procedure)</td>\n",
       "      <td>NaN</td>\n",
       "      <td>NaN</td>\n",
       "    </tr>\n",
       "  </tbody>\n",
       "</table>\n",
       "<p>468049 rows × 9 columns</p>\n",
       "</div>"
      ],
      "text/plain": [
       "                                          Id                 START  \\\n",
       "0       7d3c759d-bc25-ae60-fa5f-aa9468261553  2015-03-02T00:18:32Z   \n",
       "1       5a86340d-d955-81aa-60ac-096ee6c34d50  2014-09-20T04:11:00Z   \n",
       "2       587f6f59-f770-a0f6-5778-174e06d7d265  2017-04-07T12:57:58Z   \n",
       "3       dc44fef6-b582-16d7-98aa-d2748ad32f11  2014-11-13T17:18:00Z   \n",
       "4       2c7569c5-f9ef-1052-078b-8fd7c2bebfa7  2015-04-17T11:20:19Z   \n",
       "...                                      ...                   ...   \n",
       "468044  7b764298-a9e9-3293-ed5a-d06577270750  2021-03-13T19:08:36Z   \n",
       "468045  565e69c5-81ab-e8e8-39c1-f09081835f50  2021-04-03T19:08:36Z   \n",
       "468046  22c3a7c0-197f-edc7-c6b0-d34753c1220a  2022-03-19T19:08:36Z   \n",
       "468047  94f41589-6a35-2369-2b5a-68ef6e116c7d  2023-03-25T19:08:36Z   \n",
       "468048  2948fb3b-92c6-7a93-1c0d-7ad49efd0e33  2024-03-30T19:08:36Z   \n",
       "\n",
       "                        STOP                               PATIENT  \\\n",
       "0       2015-03-02T00:33:32Z  3753e415-bb2c-5b73-9569-eefb29fa2e2d   \n",
       "1       2014-09-20T04:26:00Z  6b222eeb-8f40-f574-fcd0-aba7c9187958   \n",
       "2       2017-04-07T13:12:58Z  e071cf75-8fdf-5dcf-b69b-229dc9929237   \n",
       "3       2014-11-13T17:33:00Z  3bca2e38-4cf3-6f67-aeb6-32c2b5b00ce7   \n",
       "4       2015-04-17T11:35:19Z  90db2046-ac67-926b-2813-5b36e47065e2   \n",
       "...                      ...                                   ...   \n",
       "468044  2021-03-13T19:23:36Z  273a809e-3b85-28d3-4033-9e479afb3e51   \n",
       "468045  2021-04-03T19:23:36Z  273a809e-3b85-28d3-4033-9e479afb3e51   \n",
       "468046  2022-03-19T19:23:36Z  273a809e-3b85-28d3-4033-9e479afb3e51   \n",
       "468047  2023-03-25T19:23:36Z  273a809e-3b85-28d3-4033-9e479afb3e51   \n",
       "468048  2024-03-30T19:23:36Z  273a809e-3b85-28d3-4033-9e479afb3e51   \n",
       "\n",
       "       ENCOUNTERCLASS       CODE  \\\n",
       "0            wellness  162673000   \n",
       "1            wellness  410620009   \n",
       "2            wellness  162673000   \n",
       "3            wellness  410620009   \n",
       "4            wellness  410620009   \n",
       "...               ...        ...   \n",
       "468044       wellness  162673000   \n",
       "468045     outpatient   33879002   \n",
       "468046       wellness  162673000   \n",
       "468047       wellness  162673000   \n",
       "468048       wellness  162673000   \n",
       "\n",
       "                                              DESCRIPTION  REASONCODE  \\\n",
       "0              General examination of patient (procedure)         NaN   \n",
       "1                            Well child visit (procedure)         NaN   \n",
       "2              General examination of patient (procedure)         NaN   \n",
       "3                            Well child visit (procedure)         NaN   \n",
       "4                            Well child visit (procedure)         NaN   \n",
       "...                                                   ...         ...   \n",
       "468044         General examination of patient (procedure)         NaN   \n",
       "468045  Administration of vaccine to produce active im...         NaN   \n",
       "468046         General examination of patient (procedure)         NaN   \n",
       "468047         General examination of patient (procedure)         NaN   \n",
       "468048         General examination of patient (procedure)         NaN   \n",
       "\n",
       "       REASONDESCRIPTION  \n",
       "0                    NaN  \n",
       "1                    NaN  \n",
       "2                    NaN  \n",
       "3                    NaN  \n",
       "4                    NaN  \n",
       "...                  ...  \n",
       "468044               NaN  \n",
       "468045               NaN  \n",
       "468046               NaN  \n",
       "468047               NaN  \n",
       "468048               NaN  \n",
       "\n",
       "[468049 rows x 9 columns]"
      ]
     },
     "execution_count": 102,
     "metadata": {},
     "output_type": "execute_result"
    }
   ],
   "source": [
    "encounters_df"
   ]
  },
  {
   "cell_type": "markdown",
   "id": "e63a2748",
   "metadata": {},
   "source": [
    "### **3. Extract unique codes and their description of encounters, procedures and conditions**"
   ]
  },
  {
   "cell_type": "code",
   "execution_count": 75,
   "id": "4d0165b3",
   "metadata": {},
   "outputs": [
    {
     "name": "stdout",
     "output_type": "stream",
     "text": [
      "Different encounter codes and descriptions:\n",
      "           CODE                                        DESCRIPTION\n",
      "17     33879002  Administration of vaccine to produce active im...\n",
      "6236   50849002               Emergency room admission (procedure)\n",
      "0     162673000         General examination of patient (procedure)\n",
      "6237  185347001                              Encounter for problem\n",
      "7855  185349003                 Encounter for check up (procedure)\n",
      "6373  308646001                                Death Certification\n",
      "1     410620009                       Well child visit (procedure)\n"
     ]
    }
   ],
   "source": [
    "encounter_codes = encounters_df[['CODE', 'DESCRIPTION']].drop_duplicates().sort_values(by='CODE') # drop duplicates and sort by code\n",
    "print(\"Different encounter codes and descriptions:\")\n",
    "print(encounter_codes)"
   ]
  },
  {
   "cell_type": "code",
   "execution_count": 76,
   "id": "abeba6e3",
   "metadata": {},
   "outputs": [
    {
     "name": "stdout",
     "output_type": "stream",
     "text": [
      "Different encounter classes:\n",
      "6239    ambulatory\n",
      "6236     emergency\n",
      "6241     inpatient\n",
      "17      outpatient\n",
      "0         wellness\n",
      "Name: ENCOUNTERCLASS, dtype: object\n"
     ]
    }
   ],
   "source": [
    "encounter_classes = encounters_df['ENCOUNTERCLASS'].drop_duplicates().sort_values() # drop duplicates and sort encounter classes\n",
    "print(\"Different encounter classes:\")\n",
    "print(encounter_classes)"
   ]
  },
  {
   "cell_type": "code",
   "execution_count": 77,
   "id": "7d6f7375",
   "metadata": {},
   "outputs": [
    {
     "name": "stdout",
     "output_type": "stream",
     "text": [
      "Different procedure codes and descriptions:\n",
      "                   CODE                                        DESCRIPTION\n",
      "3              14768001              Peripheral blood smear interpretation\n",
      "2              91602002                          Thoracentesis (procedure)\n",
      "6             162676008              Brief general examination (procedure)\n",
      "7216          167995008                      Sputum microscopy (procedure)\n",
      "2253          173160006     Diagnostic fiberoptic bronchoscopy (procedure)\n",
      "4093          180207008  Intravenous blood transfusion of packed cells ...\n",
      "8             398171003                    Hearing examination (procedure)\n",
      "0             399208008                      Plain chest X-ray (procedure)\n",
      "4             415300000                      Review of systems (procedure)\n",
      "1             418891003           Computed tomography of chest and abdomen\n",
      "5             430193006              Medication Reconciliation (procedure)\n",
      "387           432231006  Fine needle aspiration biopsy of lung (procedure)\n",
      "7             698354004  Magnetic resonance imaging for measurement of ...\n",
      "9             703423002  Combined chemotherapy and radiation therapy (p...\n",
      "10    16335031000119103  High resolution computed tomography of chest w...\n"
     ]
    }
   ],
   "source": [
    "procedure_codes = procedures_df[['CODE', 'DESCRIPTION']].drop_duplicates().sort_values(by='CODE') # drop duplicates and sort by code\n",
    "print(\"Different procedure codes and descriptions:\")\n",
    "print(procedure_codes)"
   ]
  },
  {
   "cell_type": "code",
   "execution_count": 78,
   "id": "6a4c3d16",
   "metadata": {},
   "outputs": [
    {
     "name": "stdout",
     "output_type": "stream",
     "text": [
      "Different condition codes and descriptions:\n",
      "              CODE                                        DESCRIPTION\n",
      "0        162573006                  Suspected lung cancer (situation)\n",
      "34       254632001            Small cell carcinoma of lung (disorder)\n",
      "1        254637007              Non-small cell lung cancer (disorder)\n",
      "2        271737000                                  Anemia (disorder)\n",
      "3        424132000  Non-small cell carcinoma of lung  TNM stage 1 ...\n",
      "35  67811000119102  Primary small cell malignant neoplasm of lung ...\n"
     ]
    }
   ],
   "source": [
    "conditions_codes = conditions_df[['CODE', 'DESCRIPTION']].drop_duplicates().sort_values(by='CODE') # drop duplicates and sort by code\n",
    "print(\"Different condition codes and descriptions:\")\n",
    "print(conditions_codes)"
   ]
  },
  {
   "cell_type": "markdown",
   "id": "18aad73a",
   "metadata": {},
   "source": [
    "### **4. Filter out set of Patients having data in all the required datadrames** \n",
    "(in our case, procedures,ecnounters and conditions)"
   ]
  },
  {
   "cell_type": "markdown",
   "id": "8eb32e0d",
   "metadata": {},
   "source": [
    "- Set of Ids of patient"
   ]
  },
  {
   "cell_type": "code",
   "execution_count": 79,
   "id": "6d853482",
   "metadata": {},
   "outputs": [
    {
     "name": "stdout",
     "output_type": "stream",
     "text": [
      "Number of patients with encounters, procedures, and conditions: 218\n"
     ]
    }
   ],
   "source": [
    "relevant_ids = set(encounters_df['PATIENT']) & set(procedures_df['PATIENT']) & set(conditions_df['PATIENT']) # intersection of patients in encounters, procedures, and conditions\n",
    "print(f\"Number of patients with encounters, procedures, and conditions: {len(relevant_ids)}\")"
   ]
  },
  {
   "cell_type": "markdown",
   "id": "c57f3159",
   "metadata": {},
   "source": [
    "- Map Patients with their number of Encounters"
   ]
  },
  {
   "cell_type": "code",
   "execution_count": 80,
   "id": "71455625",
   "metadata": {},
   "outputs": [],
   "source": [
    "num_patients_encounters = encounters_df[encounters_df['PATIENT'].isin(relevant_ids)].groupby('PATIENT').size() # count of encounters per patient"
   ]
  },
  {
   "cell_type": "code",
   "execution_count": 81,
   "id": "88565035",
   "metadata": {},
   "outputs": [
    {
     "data": {
      "image/png": "[encoded data removed]",
      "text/plain": [
       "<Figure size 1000x600 with 1 Axes>"
      ]
     },
     "metadata": {},
     "output_type": "display_data"
    }
   ],
   "source": [
    "#creaate histogram of number of encounters per patient\n",
    "plt.figure(figsize=(10, 6))\n",
    "plt.hist(num_patients_encounters, bins=30, color='green', alpha=0.7, edgecolor='black')\n",
    "plt.title('Histogram of Number of Encounters per Patient')\n",
    "plt.xlabel('Number of Encounters')\n",
    "plt.ylabel('Number of Patients')\n",
    "plt.grid(axis='y', alpha=0.75)\n",
    "plt.show()"
   ]
  },
  {
   "cell_type": "code",
   "execution_count": 82,
   "id": "fa5f0ee9",
   "metadata": {},
   "outputs": [
    {
     "name": "stdout",
     "output_type": "stream",
     "text": [
      "PATIENT\n",
      "00f7a855-2e4e-5a44-66f6-cf736160ed23    33\n",
      "02731516-9023-b114-47cf-0030d92aa5c7    39\n",
      "030f86e1-b4eb-f119-0ee6-faa3fa21bf84    56\n",
      "03141e75-7492-df32-9716-dd60b1ad0ba6    54\n",
      "03613eb0-4493-45e2-47b9-67b05c5664d4    37\n",
      "                                        ..\n",
      "fafe02d2-ba09-b537-9c8a-7dfbcbd128ec    40\n",
      "fccb8555-6b46-da94-bd79-695341cbfa26    40\n",
      "fcf1a409-ea9b-0ff7-bf25-c263d8a18166    40\n",
      "fd80de8b-0acc-be4b-9647-503f33135b4d    41\n",
      "ff96e301-0da5-86c4-2998-8a929fc057bb    80\n",
      "Length: 218, dtype: int64\n"
     ]
    }
   ],
   "source": [
    "print(num_patients_encounters)\n"
   ]
  },
  {
   "cell_type": "markdown",
   "id": "7cde6e2c",
   "metadata": {},
   "source": [
    "- Select small subset of Patients for analysis having encounter in a range ( in our case we choose 5 patients with range [50-70])"
   ]
  },
  {
   "cell_type": "code",
   "execution_count": 83,
   "id": "84bee8e9",
   "metadata": {},
   "outputs": [
    {
     "name": "stdout",
     "output_type": "stream",
     "text": [
      "['8c8da0c6-b875-3596-cd3f-9d3e5f9eb559', 'a8eff6ce-71d9-51dd-28c6-6c948c25568a', '05ee2c7d-150d-15d2-8cb2-ef0e5ecfa960', 'df66d5ca-7ebe-86f9-c3d0-8550944a98ad', 'e84ff247-0627-d0d4-0d44-2e774208a6a2']\n"
     ]
    }
   ],
   "source": [
    "max_encounter = 70  # maximum number of encounters for a patient\n",
    "min_encounter = 50  # minimum number of encounters for a patient\n",
    "number_of_samples = 5  # number of patients to sample\n",
    "\n",
    "selected_patients = num_patients_encounters[(num_patients_encounters < max_encounter) & (num_patients_encounters > min_encounter)].sample(n=number_of_samples, random_state=43).index\n",
    "selected_patients = selected_patients.tolist()  # convert to list for easier handling\n",
    "print(selected_patients) # selected patients ids"
   ]
  },
  {
   "cell_type": "markdown",
   "id": "0f6bff31",
   "metadata": {},
   "source": [
    "- Extract the data and create a new dataframe of selected patient from their resepective existing dataframe"
   ]
  },
  {
   "cell_type": "code",
   "execution_count": 84,
   "id": "5486cb69",
   "metadata": {},
   "outputs": [],
   "source": [
    "selected_patients_encounter_df = encounters_df[encounters_df['PATIENT'].isin(selected_patients)] # filter encounters dataframe for selected patients\n",
    "selected_patients_conditions_df = conditions_df[conditions_df['PATIENT'].isin(selected_patients)] # filter conditions dataframe for selected patients\n",
    "selected_patients_procedures_df = procedures_df[procedures_df['PATIENT'].isin(selected_patients)] # filter procedures dataframe for selected patients"
   ]
  },
  {
   "cell_type": "markdown",
   "id": "92310b47",
   "metadata": {},
   "source": [
    "### **5. Tackle 'nan' values**"
   ]
  },
  {
   "cell_type": "markdown",
   "id": "3b056ad2",
   "metadata": {},
   "source": [
    "- Get the count of 'nan' values for each dataframe"
   ]
  },
  {
   "cell_type": "code",
   "execution_count": 85,
   "id": "cd681c0a",
   "metadata": {},
   "outputs": [
    {
     "name": "stdout",
     "output_type": "stream",
     "text": [
      "Number of NaN values in each column of selected_patients_conditions_df:\n",
      "START           0\n",
      "STOP           20\n",
      "PATIENT         0\n",
      "ENCOUNTER       0\n",
      "CODE            0\n",
      "DESCRIPTION     0\n",
      "dtype: int64\n"
     ]
    }
   ],
   "source": [
    "#count the number of rows having nan in each column of selected_patients_conditions_df\n",
    "nan_counts_for_condition = selected_patients_conditions_df.isna().sum()\n",
    "print(\"Number of NaN values in each column of selected_patients_conditions_df:\")\n",
    "print(nan_counts_for_condition)"
   ]
  },
  {
   "cell_type": "markdown",
   "id": "0a536d14",
   "metadata": {},
   "source": [
    "- Since the stop time for condition diagnosed is not needed for our analysis, we only need when it was diagnosed. we remove the stop column."
   ]
  },
  {
   "cell_type": "code",
   "execution_count": 86,
   "id": "31a4396c",
   "metadata": {},
   "outputs": [
    {
     "name": "stderr",
     "output_type": "stream",
     "text": [
      "/var/folders/l7/g8pnvl0d1tx0tb1blkmqwmj00000gn/T/ipykernel_74208/3447646326.py:1: SettingWithCopyWarning: \n",
      "A value is trying to be set on a copy of a slice from a DataFrame\n",
      "\n",
      "See the caveats in the documentation: https://pandas.pydata.org/pandas-docs/stable/user_guide/indexing.html#returning-a-view-versus-a-copy\n",
      "  selected_patients_encounter_df.drop(columns=['STOP'], inplace=True)\n",
      "/var/folders/l7/g8pnvl0d1tx0tb1blkmqwmj00000gn/T/ipykernel_74208/3447646326.py:2: SettingWithCopyWarning: \n",
      "A value is trying to be set on a copy of a slice from a DataFrame\n",
      "\n",
      "See the caveats in the documentation: https://pandas.pydata.org/pandas-docs/stable/user_guide/indexing.html#returning-a-view-versus-a-copy\n",
      "  selected_patients_conditions_df.drop(columns=['STOP'], inplace=True)\n"
     ]
    }
   ],
   "source": [
    "selected_patients_encounter_df.drop(columns=['STOP'], inplace=True)\n",
    "selected_patients_conditions_df.drop(columns=['STOP'], inplace=True)"
   ]
  },
  {
   "cell_type": "code",
   "execution_count": 87,
   "id": "b564c5ee",
   "metadata": {},
   "outputs": [
    {
     "name": "stdout",
     "output_type": "stream",
     "text": [
      "Number of NaN values in each column of selected_patients_procedures_df:\n",
      "START                   0\n",
      "STOP                    0\n",
      "PATIENT                 0\n",
      "ENCOUNTER               0\n",
      "CODE                    0\n",
      "DESCRIPTION             0\n",
      "REASONCODE           1680\n",
      "REASONDESCRIPTION    1680\n",
      "dtype: int64\n"
     ]
    }
   ],
   "source": [
    "#count the number of rows having nan in each column of selected_patients_procedures_df\n",
    "nan_counts_for_procedure = selected_patients_procedures_df.isna().sum()\n",
    "print(\"Number of NaN values in each column of selected_patients_procedures_df:\")\n",
    "print(nan_counts_for_procedure)"
   ]
  },
  {
   "cell_type": "code",
   "execution_count": 88,
   "id": "314e63ce",
   "metadata": {},
   "outputs": [
    {
     "name": "stdout",
     "output_type": "stream",
     "text": [
      "Number of NaN values in each column of selected_patients_encounter_df:\n",
      "Id                    0\n",
      "START                 0\n",
      "PATIENT               0\n",
      "ENCOUNTERCLASS        0\n",
      "CODE                  0\n",
      "DESCRIPTION           0\n",
      "REASONCODE           41\n",
      "REASONDESCRIPTION    41\n",
      "dtype: int64\n"
     ]
    }
   ],
   "source": [
    "#count the number of rows having nan in each column of selected_patients_encounter_df\n",
    "nan_counts_for_encounter = selected_patients_encounter_df.isna().sum()\n",
    "print(\"Number of NaN values in each column of selected_patients_encounter_df:\")\n",
    "print(nan_counts_for_encounter)"
   ]
  },
  {
   "cell_type": "markdown",
   "id": "26d43f5e",
   "metadata": {},
   "source": [
    "- For Procedure and Encounter dataframe we found out ***REASONCODE*** and ***REASONDESCRIPTION*** columns have 'nan' values.<br><br> we allot **REASONCODE = -1 and REASONDESCRIPTION = REASON_NOT_DOCUMENTED**"
   ]
  },
  {
   "cell_type": "code",
   "execution_count": 89,
   "id": "b95faa67",
   "metadata": {},
   "outputs": [
    {
     "name": "stderr",
     "output_type": "stream",
     "text": [
      "/var/folders/l7/g8pnvl0d1tx0tb1blkmqwmj00000gn/T/ipykernel_74208/3863793726.py:1: FutureWarning: A value is trying to be set on a copy of a DataFrame or Series through chained assignment using an inplace method.\n",
      "The behavior will change in pandas 3.0. This inplace method will never work because the intermediate object on which we are setting values always behaves as a copy.\n",
      "\n",
      "For example, when doing 'df[col].method(value, inplace=True)', try using 'df.method({col: value}, inplace=True)' or df[col] = df[col].method(value) instead, to perform the operation inplace on the original object.\n",
      "\n",
      "\n",
      "  selected_patients_procedures_df['REASONCODE'].fillna(-1, inplace=True)\n",
      "/var/folders/l7/g8pnvl0d1tx0tb1blkmqwmj00000gn/T/ipykernel_74208/3863793726.py:1: SettingWithCopyWarning: \n",
      "A value is trying to be set on a copy of a slice from a DataFrame\n",
      "\n",
      "See the caveats in the documentation: https://pandas.pydata.org/pandas-docs/stable/user_guide/indexing.html#returning-a-view-versus-a-copy\n",
      "  selected_patients_procedures_df['REASONCODE'].fillna(-1, inplace=True)\n",
      "/var/folders/l7/g8pnvl0d1tx0tb1blkmqwmj00000gn/T/ipykernel_74208/3863793726.py:2: FutureWarning: A value is trying to be set on a copy of a DataFrame or Series through chained assignment using an inplace method.\n",
      "The behavior will change in pandas 3.0. This inplace method will never work because the intermediate object on which we are setting values always behaves as a copy.\n",
      "\n",
      "For example, when doing 'df[col].method(value, inplace=True)', try using 'df.method({col: value}, inplace=True)' or df[col] = df[col].method(value) instead, to perform the operation inplace on the original object.\n",
      "\n",
      "\n",
      "  selected_patients_procedures_df['REASONDESCRIPTION'].fillna('REASON_NOT_DOCUMENTED', inplace=True)\n",
      "/var/folders/l7/g8pnvl0d1tx0tb1blkmqwmj00000gn/T/ipykernel_74208/3863793726.py:2: SettingWithCopyWarning: \n",
      "A value is trying to be set on a copy of a slice from a DataFrame\n",
      "\n",
      "See the caveats in the documentation: https://pandas.pydata.org/pandas-docs/stable/user_guide/indexing.html#returning-a-view-versus-a-copy\n",
      "  selected_patients_procedures_df['REASONDESCRIPTION'].fillna('REASON_NOT_DOCUMENTED', inplace=True)\n"
     ]
    }
   ],
   "source": [
    "selected_patients_procedures_df['REASONCODE'].fillna(-1, inplace=True)\n",
    "selected_patients_procedures_df['REASONDESCRIPTION'].fillna('REASON_NOT_DOCUMENTED', inplace=True)"
   ]
  },
  {
   "cell_type": "code",
   "execution_count": 90,
   "id": "9195425f",
   "metadata": {},
   "outputs": [
    {
     "name": "stderr",
     "output_type": "stream",
     "text": [
      "/var/folders/l7/g8pnvl0d1tx0tb1blkmqwmj00000gn/T/ipykernel_74208/1904928059.py:1: FutureWarning: A value is trying to be set on a copy of a DataFrame or Series through chained assignment using an inplace method.\n",
      "The behavior will change in pandas 3.0. This inplace method will never work because the intermediate object on which we are setting values always behaves as a copy.\n",
      "\n",
      "For example, when doing 'df[col].method(value, inplace=True)', try using 'df.method({col: value}, inplace=True)' or df[col] = df[col].method(value) instead, to perform the operation inplace on the original object.\n",
      "\n",
      "\n",
      "  selected_patients_encounter_df['REASONCODE'].fillna(-1, inplace=True)\n",
      "/var/folders/l7/g8pnvl0d1tx0tb1blkmqwmj00000gn/T/ipykernel_74208/1904928059.py:1: SettingWithCopyWarning: \n",
      "A value is trying to be set on a copy of a slice from a DataFrame\n",
      "\n",
      "See the caveats in the documentation: https://pandas.pydata.org/pandas-docs/stable/user_guide/indexing.html#returning-a-view-versus-a-copy\n",
      "  selected_patients_encounter_df['REASONCODE'].fillna(-1, inplace=True)\n",
      "/var/folders/l7/g8pnvl0d1tx0tb1blkmqwmj00000gn/T/ipykernel_74208/1904928059.py:2: FutureWarning: A value is trying to be set on a copy of a DataFrame or Series through chained assignment using an inplace method.\n",
      "The behavior will change in pandas 3.0. This inplace method will never work because the intermediate object on which we are setting values always behaves as a copy.\n",
      "\n",
      "For example, when doing 'df[col].method(value, inplace=True)', try using 'df.method({col: value}, inplace=True)' or df[col] = df[col].method(value) instead, to perform the operation inplace on the original object.\n",
      "\n",
      "\n",
      "  selected_patients_encounter_df['REASONDESCRIPTION'].fillna('REASON_NOT_DOCUMENTED', inplace=True)\n",
      "/var/folders/l7/g8pnvl0d1tx0tb1blkmqwmj00000gn/T/ipykernel_74208/1904928059.py:2: SettingWithCopyWarning: \n",
      "A value is trying to be set on a copy of a slice from a DataFrame\n",
      "\n",
      "See the caveats in the documentation: https://pandas.pydata.org/pandas-docs/stable/user_guide/indexing.html#returning-a-view-versus-a-copy\n",
      "  selected_patients_encounter_df['REASONDESCRIPTION'].fillna('REASON_NOT_DOCUMENTED', inplace=True)\n"
     ]
    }
   ],
   "source": [
    "selected_patients_encounter_df['REASONCODE'].fillna(-1, inplace=True)\n",
    "selected_patients_encounter_df['REASONDESCRIPTION'].fillna('REASON_NOT_DOCUMENTED', inplace=True)"
   ]
  },
  {
   "cell_type": "markdown",
   "id": "944c8e0f",
   "metadata": {},
   "source": [
    "- There are same procedures multiple times for a single encounter. Remove them."
   ]
  },
  {
   "cell_type": "code",
   "execution_count": 91,
   "id": "6294096b",
   "metadata": {},
   "outputs": [
    {
     "name": "stderr",
     "output_type": "stream",
     "text": [
      "/var/folders/l7/g8pnvl0d1tx0tb1blkmqwmj00000gn/T/ipykernel_74208/2973867754.py:2: SettingWithCopyWarning: \n",
      "A value is trying to be set on a copy of a slice from a DataFrame\n",
      "\n",
      "See the caveats in the documentation: https://pandas.pydata.org/pandas-docs/stable/user_guide/indexing.html#returning-a-view-versus-a-copy\n",
      "  selected_patients_procedures_df.drop_duplicates(subset=['ENCOUNTER', 'CODE'], inplace=True)\n"
     ]
    }
   ],
   "source": [
    "#remove the duplicates from selected_patients_procedures_df where encounter and code are the same\n",
    "selected_patients_procedures_df.drop_duplicates(subset=['ENCOUNTER', 'CODE'], inplace=True)"
   ]
  },
  {
   "cell_type": "markdown",
   "id": "5e031130",
   "metadata": {},
   "source": [
    "### **6. Get the dataframe Metrices**"
   ]
  },
  {
   "cell_type": "markdown",
   "id": "25b5909f",
   "metadata": {},
   "source": [
    "- Average Numbers of ecnounters, procedures, conditions."
   ]
  },
  {
   "cell_type": "code",
   "execution_count": 92,
   "id": "487616a8",
   "metadata": {},
   "outputs": [
    {
     "name": "stdout",
     "output_type": "stream",
     "text": [
      "Average number of encounters per patient in relevant_ids: 50.73\n"
     ]
    }
   ],
   "source": [
    "#average number of encounter per patient in relevant_ids\n",
    "avg_encounters = encounters_df[encounters_df['PATIENT'].isin(relevant_ids)].groupby('PATIENT').size().mean()\n",
    "print(f\"Average number of encounters per patient in relevant_ids: {avg_encounters:.2f}\")"
   ]
  },
  {
   "cell_type": "code",
   "execution_count": 93,
   "id": "cf523915",
   "metadata": {},
   "outputs": [
    {
     "name": "stdout",
     "output_type": "stream",
     "text": [
      "Average number of conditions per patient in relevant_ids: 3.76\n"
     ]
    }
   ],
   "source": [
    "avg_conditions = conditions_df[conditions_df['PATIENT'].isin(relevant_ids)].groupby('PATIENT').size().mean()\n",
    "print(f\"Average number of conditions per patient in relevant_ids: {avg_conditions:.2f}\")"
   ]
  },
  {
   "cell_type": "code",
   "execution_count": 94,
   "id": "2e1f200b",
   "metadata": {},
   "outputs": [
    {
     "name": "stdout",
     "output_type": "stream",
     "text": [
      "Average number of procedures per patient in relevant_ids: 483.55\n"
     ]
    }
   ],
   "source": [
    "avg_procedures = procedures_df[procedures_df['PATIENT'].isin(relevant_ids)].groupby('PATIENT').size().mean()\n",
    "print(f\"Average number of procedures per patient in relevant_ids: {avg_procedures:.2f}\")"
   ]
  },
  {
   "cell_type": "markdown",
   "id": "5ae81f43",
   "metadata": {},
   "source": [
    "- Max and Min number of encounter,conditions and procedures"
   ]
  },
  {
   "cell_type": "code",
   "execution_count": 95,
   "id": "79dd9387",
   "metadata": {},
   "outputs": [
    {
     "name": "stdout",
     "output_type": "stream",
     "text": [
      "Minimum number of encounters per patient in relevant_ids: 18\n",
      "Maximum number of encounters per patient in relevant_ids: 84\n",
      "Minimum number of conditions per patient in relevant_ids: 3\n",
      "Maximum number of conditions per patient in relevant_ids: 4\n",
      "Minimum number of procedures per patient in relevant_ids: 36\n",
      "Maximum number of procedures per patient in relevant_ids: 908\n"
     ]
    }
   ],
   "source": [
    "#min and max number of encounters per patient in relevant_ids\n",
    "min_encounters = encounters_df[encounters_df['PATIENT'].isin(relevant_ids)].groupby('PATIENT').size().min()\n",
    "max_encounters = encounters_df[encounters_df['PATIENT'].isin(relevant_ids)].groupby('PATIENT').size().max()\n",
    "print(f\"Minimum number of encounters per patient in relevant_ids: {min_encounters}\")\n",
    "print(f\"Maximum number of encounters per patient in relevant_ids: {max_encounters}\")\n",
    "\n",
    "#min and max number of conditions per patient in relevant_ids\n",
    "min_conditions = conditions_df[conditions_df['PATIENT'].isin(relevant_ids)].groupby('PATIENT').size().min()\n",
    "max_conditions = conditions_df[conditions_df['PATIENT'].isin(relevant_ids)].groupby('PATIENT').size().max()\n",
    "print(f\"Minimum number of conditions per patient in relevant_ids: {min_conditions}\")\n",
    "print(f\"Maximum number of conditions per patient in relevant_ids: {max_conditions}\")    \n",
    "\n",
    "#min and max number of procedures per patient in relevant_ids\n",
    "min_procedures = procedures_df[procedures_df['PATIENT'].isin(relevant_ids)].groupby('PATIENT').size().min()\n",
    "max_procedures = procedures_df[procedures_df['PATIENT'].isin(relevant_ids)].groupby('PATIENT').size().max()\n",
    "print(f\"Minimum number of procedures per patient in relevant_ids: {min_procedures}\")\n",
    "print(f\"Maximum number of procedures per patient in relevant_ids: {max_procedures}\")"
   ]
  },
  {
   "cell_type": "markdown",
   "id": "dca06375",
   "metadata": {},
   "source": [
    "## **7. Save the dataframes in CSV format**"
   ]
  },
  {
   "cell_type": "code",
   "execution_count": 96,
   "id": "b6aaf9fd",
   "metadata": {},
   "outputs": [],
   "source": [
    "output_data_dir = \"filtered_data\"  # directory to save cleaned data\n",
    "if not os.path.exists(output_data_dir):\n",
    "    os.makedirs(\"../filtered_data\", exist_ok=True)  # create output directory if it doesn't exist\n",
    "    \n",
    "selected_patients_encounter_df.to_csv(f\"../{output_data_dir}/selected_patients_encounter.csv\", index=False)\n",
    "selected_patients_conditions_df.to_csv(f\"../{output_data_dir}/selected_patients_conditions.csv\", index=False)\n",
    "selected_patients_procedures_df.to_csv(f\"../{output_data_dir}/selected_patients_procedures.csv\", index=False)\n",
    "\n",
    "#want separate df for selected_patients_df from patients_df\n",
    "selected_patients_df = patients_df[patients_df['Id'].isin(selected_patients)]\n",
    "selected_patients_df.to_csv(f\"../{output_data_dir}/selected_patients.csv\", index=False)"
   ]
  },
  {
   "cell_type": "markdown",
   "id": "e16c3bc9",
   "metadata": {},
   "source": [
    "- Get the First Encounters by Patients in separate csv file (helpful to mark patients first encounter)"
   ]
  },
  {
   "cell_type": "code",
   "execution_count": 97,
   "id": "b2fbfea1",
   "metadata": {},
   "outputs": [],
   "source": [
    "# get the first encounter for each patient in selected_patients_df\n",
    "first_encounters = selected_patients_encounter_df.groupby('PATIENT').first().reset_index()\n",
    "first_encounters.to_csv(f\"../{output_data_dir}/first_encounters.csv\", index=False)"
   ]
  },
  {
   "cell_type": "markdown",
   "id": "e334709a",
   "metadata": {},
   "source": [
    "- Get the First Encounter of Patients."
   ]
  },
  {
   "cell_type": "code",
   "execution_count": 98,
   "id": "fc89438a",
   "metadata": {},
   "outputs": [],
   "source": [
    "import pandas as pd\n",
    "\n",
    "patients = pd.read_csv(f\"../{output_data_dir}/selected_patients.csv\")\n",
    "encounters = pd.read_csv(f\"../{output_data_dir}/selected_patients_encounter.csv\")\n",
    "\n",
    "# Ensure datetime format\n",
    "encounters['START'] = pd.to_datetime(encounters['START'])\n",
    "\n",
    "# Get the first encounter per patient by earliest 'START' time\n",
    "first_encounters = (\n",
    "    encounters.sort_values(by='START')\n",
    "              .groupby('PATIENT', as_index=False)\n",
    "              .first()\n",
    ")\n",
    "\n",
    "first_encounters = first_encounters[['PATIENT', 'Id']] \n",
    "first_encounters.columns = ['PATIENT', 'ENCOUNTER_ID']\n",
    "\n",
    "first_encounters.to_csv(f\"../{output_data_dir}/first_encounter_per_patient.csv\", index=False)\n"
   ]
  },
  {
   "cell_type": "markdown",
   "id": "2e521974",
   "metadata": {},
   "source": [
    "- Get Chained Encounter CSV for every patients. i.e one encounter followed by another (helpful for creating encounter chains)"
   ]
  },
  {
   "cell_type": "code",
   "execution_count": 99,
   "id": "b2ca4ff7",
   "metadata": {},
   "outputs": [],
   "source": [
    "import pandas as pd\n",
    "\n",
    "df_encounters = pd.read_csv(f\"../{output_data_dir}/selected_patients_encounter.csv\")\n",
    "\n",
    "df_encounters['START'] = pd.to_datetime(df_encounters['START'], errors='coerce')\n",
    "\n",
    "df_encounters = df_encounters.dropna(subset=['START'])\n",
    "\n",
    "grouped = df_encounters.sort_values(by='START').groupby('PATIENT')\n",
    "\n",
    "chained_encounters_fixed = []\n",
    "for patient_id, group in grouped:\n",
    "    sorted_group = group.sort_values(by='START')\n",
    "    ids = sorted_group['Id'].tolist()\n",
    "    for i in range(len(ids) - 1):\n",
    "        chained_encounters_fixed.append((patient_id, ids[i], ids[i+1]))\n",
    "\n",
    "df_chained_fixed = pd.DataFrame(chained_encounters_fixed, columns=[\"PATIENT\", \"ENCOUNTER_ID_1\", \"ENCOUNTER_ID_2\"])\n",
    "\n",
    "df_chained_fixed.to_csv(f\"../{output_data_dir}/chained_encounters_patient_specific.csv\", index=False)\n"
   ]
  }
 ],
 "metadata": {
  "kernelspec": {
   "display_name": "Python 3",
   "language": "python",
   "name": "python3"
  },
  "language_info": {
   "codemirror_mode": {
    "name": "ipython",
    "version": 3
   },
   "file_extension": ".py",
   "mimetype": "text/x-python",
   "name": "python",
   "nbconvert_exporter": "python",
   "pygments_lexer": "ipython3",
   "version": "3.12.2"
  }
 },
 "nbformat": 4,
 "nbformat_minor": 5
}
